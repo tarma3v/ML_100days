{
  "cells": [
    {
      "cell_type": "markdown",
      "id": "6de1383f-af3a-4720-9842-d4ed4ce6d6ed",
      "metadata": {
        "id": "6de1383f-af3a-4720-9842-d4ed4ce6d6ed"
      },
      "source": [
        "The task of this work is to train different models in NMT task. We have corpora of 50'000 sentences on both english and russian and our goal is to teach models translate russian to english"
      ]
    },
    {
      "cell_type": "code",
      "execution_count": 5,
      "id": "37cc976c-c029-45ce-be3b-a0de3f6cbaf6",
      "metadata": {
        "colab": {
          "base_uri": "https://localhost:8080/"
        },
        "id": "37cc976c-c029-45ce-be3b-a0de3f6cbaf6",
        "outputId": "e991ccaa-9604-495e-be0e-7b010ac57d86"
      },
      "outputs": [
        {
          "output_type": "stream",
          "name": "stdout",
          "text": [
            "Dataset not found locally. Downloading from github.\n",
            "  % Total    % Received % Xferd  Average Speed   Time    Time     Time  Current\n",
            "                                 Dload  Upload   Total   Spent    Left  Speed\n",
            "100 12.3M  100 12.3M    0     0  13.3M      0 --:--:-- --:--:-- --:--:-- 13.3M\n"
          ]
        }
      ],
      "source": [
        "# Thanks to YSDA NLP course team for the data\n",
        "# (who thanks tilda and deephack teams for the data in their turn)\n",
        "\n",
        "import os\n",
        "path_do_data = '../../datasets/Machine_translation_EN_RU/data.txt'\n",
        "if not os.path.exists(path_do_data):\n",
        "    print(\"Dataset not found locally. Downloading from github.\")\n",
        "    !curl -O https://raw.githubusercontent.com/neychev/made_nlp_course/master/datasets/Machine_translation_EN_RU/data.txt\n",
        "    path_do_data = './data.txt'"
      ]
    },
    {
      "cell_type": "markdown",
      "id": "7c2ea579-b661-45a0-b568-578cac1ac0ff",
      "metadata": {
        "id": "7c2ea579-b661-45a0-b568-578cac1ac0ff"
      },
      "source": [
        "### Глава 1. Путь в тысячу ли начинается с первого шага"
      ]
    },
    {
      "cell_type": "code",
      "execution_count": 6,
      "id": "445d55b2-c65c-484a-b310-c42ebb56d796",
      "metadata": {
        "id": "445d55b2-c65c-484a-b310-c42ebb56d796"
      },
      "outputs": [],
      "source": [
        "import torch\n",
        "import torch.nn as nn\n",
        "import torch.optim as optim\n",
        "from sklearn.model_selection import train_test_split\n",
        "import random\n",
        "import matplotlib.pyplot as plt\n",
        "%matplotlib inline\n",
        "from IPython.display import clear_output\n",
        "import math\n",
        "from nltk.translate.bleu_score import corpus_bleu\n",
        "import numpy as np"
      ]
    },
    {
      "cell_type": "code",
      "execution_count": 7,
      "id": "38829bdb-d16f-4724-a193-5c8ad76fcf71",
      "metadata": {
        "id": "38829bdb-d16f-4724-a193-5c8ad76fcf71"
      },
      "outputs": [],
      "source": [
        "data = []\n",
        "with open(path_do_data, \"r\") as f:\n",
        "    l = f.readline()\n",
        "    while l != '\\n' and l != '':\n",
        "        data.append(l.rstrip().split(\"\\t\"))\n",
        "        l = f.readline()"
      ]
    },
    {
      "cell_type": "code",
      "execution_count": 8,
      "id": "8f581ac7-a219-4e41-a15d-71a6ee8c1dfc",
      "metadata": {
        "colab": {
          "base_uri": "https://localhost:8080/"
        },
        "id": "8f581ac7-a219-4e41-a15d-71a6ee8c1dfc",
        "outputId": "65c61108-74e8-44a4-886f-9a99d46805f7"
      },
      "outputs": [
        {
          "output_type": "execute_result",
          "data": {
            "text/plain": [
              "[['Cordelia Hotel is situated in Tbilisi, a 3-minute walk away from Saint Trinity Church.',\n",
              "  'Отель Cordelia расположен в Тбилиси, в 3 минутах ходьбы от Свято-Троицкого собора.'],\n",
              " ['At Tupirmarka Lodge you will find a 24-hour front desk, room service, and a snack bar.',\n",
              "  'В числе удобств лоджа Tupirmarka круглосуточная стойка регистрации и снэк-бар. Гости могут воспользоваться услугой доставки еды и напитков в номер.'],\n",
              " ['Featuring free WiFi in all areas, Naigao Xiaowo offers accommodation in Shanghai.',\n",
              "  'Апартаменты Naigao Xiaowo расположены в городе Шанхай. К услугам гостей бесплатный Wi-Fi во всех зонах.']]"
            ]
          },
          "metadata": {},
          "execution_count": 8
        }
      ],
      "source": [
        "data[:3]"
      ]
    },
    {
      "cell_type": "markdown",
      "id": "ccd88ccf-d823-497e-a763-16d865927de4",
      "metadata": {
        "id": "ccd88ccf-d823-497e-a763-16d865927de4"
      },
      "source": [
        "Data Insight: we have target language in 0th col and source in the 1st."
      ]
    },
    {
      "cell_type": "code",
      "execution_count": 9,
      "id": "528c54b5-6371-4f1b-aacb-f053fa6cbd7d",
      "metadata": {
        "id": "528c54b5-6371-4f1b-aacb-f053fa6cbd7d"
      },
      "outputs": [],
      "source": [
        "data_size = len(data)\n",
        "test_size = (valid_size := data_size // 10)\n",
        "train_data, test_data = train_test_split(data, test_size=test_size, random_state=42)\n",
        "train_data, valid_data = train_test_split(train_data, test_size=valid_size, random_state=42)"
      ]
    },
    {
      "cell_type": "code",
      "execution_count": 10,
      "id": "34c3d715-7f88-4a2f-9e2f-11ffab70c0ab",
      "metadata": {
        "id": "34c3d715-7f88-4a2f-9e2f-11ffab70c0ab"
      },
      "outputs": [],
      "source": [
        "unk_token = \"<unk>\"\n",
        "sos_token, eos_token, pad_token = \"<sos>\", \"<eos>\", \"<pad>\"\n",
        "specials = [sos_token, eos_token, pad_token, unk_token]"
      ]
    },
    {
      "cell_type": "markdown",
      "id": "d646ae73-96cb-47f1-a40b-bd30cb49cf6f",
      "metadata": {
        "id": "d646ae73-96cb-47f1-a40b-bd30cb49cf6f"
      },
      "source": [
        "Будем использовать претрэйнд токенайзеры для первой модели (RNN)\n",
        "К сожалению, для последующих моделей у меня не хватило памяти гпу (ни локально, ни в юпитере, поэтому там взят Tokenizer из tokenizers)"
      ]
    },
    {
      "cell_type": "code",
      "execution_count": null,
      "id": "ba0ff592-4820-4209-9c1a-193c22b32b67",
      "metadata": {
        "id": "ba0ff592-4820-4209-9c1a-193c22b32b67"
      },
      "outputs": [],
      "source": [
        "from transformers import pipeline, AutoTokenizer\n",
        "from transformers import RobertaTokenizerFast\n",
        "\n",
        "src_tokenizer = AutoTokenizer.from_pretrained(\"cointegrated/rubert-tiny2\")\n",
        "trg_tokenizer = AutoTokenizer.from_pretrained('bert-base-uncased')"
      ]
    },
    {
      "cell_type": "code",
      "execution_count": null,
      "id": "89cde674-1d98-486a-b84c-a503690e86db",
      "metadata": {
        "colab": {
          "base_uri": "https://localhost:8080/"
        },
        "id": "89cde674-1d98-486a-b84c-a503690e86db",
        "outputId": "6d6d5733-a0df-4eb0-9ff7-4071d06461a8"
      },
      "outputs": [
        {
          "name": "stdout",
          "output_type": "stream",
          "text": [
            "83828 30522\n"
          ]
        }
      ],
      "source": [
        "print(src_tokenizer.vocab_size, trg_tokenizer.vocab_size)"
      ]
    },
    {
      "cell_type": "code",
      "execution_count": null,
      "id": "4ded69da-105d-4f58-a07b-d0f75888ab96",
      "metadata": {
        "id": "4ded69da-105d-4f58-a07b-d0f75888ab96"
      },
      "outputs": [],
      "source": [
        "from torch.nn.utils.rnn import pad_sequence\n",
        "\n",
        "def collate(batch):\n",
        "    src_enc = [torch.tensor(src_tokenizer.encode(pair[1])) for pair in batch]\n",
        "    trg_enc = [torch.tensor(trg_tokenizer.encode(pair[0])) for pair in batch]\n",
        "    src_padded = pad_sequence(src_enc, padding_value=src_tokenizer.pad_token_id)\n",
        "    trg_padded = pad_sequence(trg_enc, padding_value=trg_tokenizer.pad_token_id)\n",
        "    return src_padded, trg_padded"
      ]
    },
    {
      "cell_type": "code",
      "execution_count": null,
      "id": "bf47c5ce-163e-4905-ac28-d00d0c656c00",
      "metadata": {
        "id": "bf47c5ce-163e-4905-ac28-d00d0c656c00"
      },
      "outputs": [],
      "source": [
        "from torch.utils.data import DataLoader\n",
        "batch_size = 128\n",
        "def getDataLoader(data):\n",
        "    return DataLoader(data, batch_size=batch_size, shuffle=True, collate_fn=collate)"
      ]
    },
    {
      "cell_type": "code",
      "execution_count": null,
      "id": "b1a05c39-870d-4a9c-ba61-28544f1b15a0",
      "metadata": {
        "id": "b1a05c39-870d-4a9c-ba61-28544f1b15a0"
      },
      "outputs": [],
      "source": [
        "train_dataloader = getDataLoader(train_data)\n",
        "valid_dataloader = getDataLoader(valid_data)\n",
        "test_dataloader = getDataLoader(test_data)"
      ]
    },
    {
      "cell_type": "markdown",
      "id": "11605afd-1ecd-4d77-9c53-9458ef24f4b2",
      "metadata": {
        "id": "11605afd-1ecd-4d77-9c53-9458ef24f4b2"
      },
      "source": [
        "### Глава 2. Общие основы, разные исходы"
      ]
    },
    {
      "cell_type": "code",
      "execution_count": 11,
      "id": "fa22c75a-525b-478e-9e92-e18375dfa087",
      "metadata": {
        "id": "fa22c75a-525b-478e-9e92-e18375dfa087"
      },
      "outputs": [],
      "source": [
        "device = torch.device('cuda' if torch.cuda.is_available() else 'cpu')"
      ]
    },
    {
      "cell_type": "code",
      "execution_count": 12,
      "id": "d4a8a9eb-e2a2-412c-a11f-8d209bfd6669",
      "metadata": {
        "id": "d4a8a9eb-e2a2-412c-a11f-8d209bfd6669"
      },
      "outputs": [],
      "source": [
        "def init_weights(m):\n",
        "    for name, param in m.named_parameters():\n",
        "        nn.init.uniform_(param, -0.08, 0.08)\n",
        "\n",
        "def count_parameters(model):\n",
        "    return sum(p.numel() for p in model.parameters() if p.requires_grad)"
      ]
    },
    {
      "cell_type": "code",
      "execution_count": 13,
      "id": "a7e8d693-5e20-455a-b969-0b5d03d95ea6",
      "metadata": {
        "id": "a7e8d693-5e20-455a-b969-0b5d03d95ea6"
      },
      "outputs": [],
      "source": [
        "def train(model, iterator, optimizer, criterion, clip, train_history=None, valid_history=None):\n",
        "    model.train()\n",
        "    epoch_loss = 0\n",
        "    history = []\n",
        "    for i, batch in enumerate(iterator):\n",
        "        trg, src = batch\n",
        "        src = src.to(device)\n",
        "        trg = trg.to(device)\n",
        "\n",
        "        optimizer.zero_grad()\n",
        "        output = model(src, trg)\n",
        "        output = output[1:].view(-1, output.shape[-1])\n",
        "        trg = trg[1:].view(-1)\n",
        "\n",
        "        loss = criterion(output, trg)\n",
        "        loss.backward()\n",
        "        # Let's clip the gradient\n",
        "        torch.nn.utils.clip_grad_norm_(model.parameters(), clip)\n",
        "        optimizer.step()\n",
        "        epoch_loss += loss.item()\n",
        "        history.append(loss.cpu().data.numpy())\n",
        "        if (i+1)%10==0:\n",
        "            fig, ax = plt.subplots(nrows=1, ncols=2, figsize=(12, 8))\n",
        "            clear_output(True)\n",
        "            ax[0].plot(history, label='train loss')\n",
        "            ax[0].set_xlabel('Batch')\n",
        "            ax[0].set_title('Train loss')\n",
        "            if train_history is not None:\n",
        "                ax[1].plot(train_history, label='general train history')\n",
        "                ax[1].set_xlabel('Epoch')\n",
        "            if valid_history is not None:\n",
        "                ax[1].plot(valid_history, label='general valid history')\n",
        "            plt.legend()\n",
        "            plt.show()\n",
        "    return epoch_loss / len(iterator)"
      ]
    },
    {
      "cell_type": "code",
      "execution_count": 14,
      "id": "fa0fb80c-282a-4681-a194-31fef2f2c38d",
      "metadata": {
        "id": "fa0fb80c-282a-4681-a194-31fef2f2c38d"
      },
      "outputs": [],
      "source": [
        "def evaluate(model, iterator, criterion):\n",
        "    model.eval()\n",
        "    epoch_loss = 0\n",
        "    history = []\n",
        "\n",
        "    with torch.no_grad():\n",
        "        for i, batch in enumerate(iterator):\n",
        "            trg, src = batch\n",
        "            src, trg = src.to(device), trg.to(device)\n",
        "            output = model(src, trg, 0)\n",
        "            output = output[1:].view(-1, output.shape[-1])\n",
        "            trg = trg[1:].view(-1)\n",
        "            loss = criterion(output, trg)\n",
        "            epoch_loss += loss.item()\n",
        "    return epoch_loss / len(iterator)"
      ]
    },
    {
      "cell_type": "markdown",
      "id": "c483bdf0-a685-467a-82b5-e827566ba6c2",
      "metadata": {
        "id": "c483bdf0-a685-467a-82b5-e827566ba6c2"
      },
      "source": [
        "### Глава 3. Прокладываем путь (RNN)"
      ]
    },
    {
      "cell_type": "code",
      "execution_count": null,
      "id": "29119a84-4cf8-4531-bc8a-b4ff3e8c8f54",
      "metadata": {
        "id": "29119a84-4cf8-4531-bc8a-b4ff3e8c8f54"
      },
      "outputs": [],
      "source": [
        "class Encoder(nn.Module):\n",
        "    def __init__(self, input_dim, emb_dim, hid_dim, n_layers, dropout):\n",
        "        super().__init__()\n",
        "\n",
        "        self.n_layers = n_layers\n",
        "        self.input_dim = input_dim\n",
        "        self.emb_dim = emb_dim\n",
        "        self.hid_dim = hid_dim\n",
        "        self.dropout = nn.Dropout(p=dropout)\n",
        "\n",
        "        self.embedding = nn.Embedding(\n",
        "            num_embeddings=input_dim,\n",
        "            embedding_dim=emb_dim\n",
        "        )\n",
        "        # используем LSTM как cell\n",
        "        self.rnn = nn.LSTM(\n",
        "            input_size=emb_dim,\n",
        "            hidden_size=hid_dim,\n",
        "            num_layers=n_layers,\n",
        "            dropout=dropout\n",
        "        )\n",
        "\n",
        "    def forward(self, src):\n",
        "        embedded = self.embedding(src)\n",
        "        embedded = self.dropout(embedded)\n",
        "        output, (hidden, cell) = self.rnn(embedded)\n",
        "        return hidden, cell"
      ]
    },
    {
      "cell_type": "code",
      "execution_count": null,
      "id": "95072d6d-1fae-4b38-8505-cd611c88c5cb",
      "metadata": {
        "id": "95072d6d-1fae-4b38-8505-cd611c88c5cb"
      },
      "outputs": [],
      "source": [
        "class Decoder(nn.Module):\n",
        "    def __init__(self, output_dim, emb_dim, hid_dim, n_layers, dropout):\n",
        "        super().__init__()\n",
        "\n",
        "        self.emb_dim = emb_dim\n",
        "        self.hid_dim = hid_dim\n",
        "        self.output_dim = output_dim\n",
        "        self.n_layers = n_layers\n",
        "\n",
        "        self.embedding = nn.Embedding(\n",
        "            num_embeddings=output_dim,\n",
        "            embedding_dim=emb_dim\n",
        "        )\n",
        "        self.rnn = nn.LSTM(\n",
        "            input_size=emb_dim,\n",
        "            hidden_size=hid_dim,\n",
        "            num_layers=n_layers,\n",
        "            dropout=dropout\n",
        "        )\n",
        "        self.out = nn.Linear(\n",
        "            in_features=hid_dim,\n",
        "            out_features=output_dim\n",
        "        )\n",
        "        self.dropout = nn.Dropout(p=dropout)\n",
        "\n",
        "    def forward(self, input, hidden, cell):\n",
        "        input = input.unsqueeze(0)\n",
        "        embedded = self.dropout(self.embedding(input))\n",
        "        output, (hidden, cell) = self.rnn(embedded, (hidden, cell))\n",
        "        prediction = self.out(output.squeeze(0))\n",
        "\n",
        "        return prediction, hidden, cell"
      ]
    },
    {
      "cell_type": "code",
      "execution_count": null,
      "id": "2c29904a-2d87-49e7-838b-f645ae96105d",
      "metadata": {
        "id": "2c29904a-2d87-49e7-838b-f645ae96105d"
      },
      "outputs": [],
      "source": [
        "class Seq2Seq(nn.Module):\n",
        "    def __init__(self, encoder, decoder, device):\n",
        "        super().__init__()\n",
        "\n",
        "        self.encoder = encoder\n",
        "        self.decoder = decoder\n",
        "        self.device = device\n",
        "\n",
        "        assert encoder.hid_dim == decoder.hid_dim\n",
        "        assert encoder.n_layers == decoder.n_layers\n",
        "\n",
        "    def forward(self, src, trg, teacher_forcing_ratio = 0.5):\n",
        "        max_len = trg.shape[0]\n",
        "        batch_size = trg.shape[1]\n",
        "        trg_vocab_size = self.decoder.output_dim\n",
        "\n",
        "        outputs = torch.zeros(max_len, batch_size, trg_vocab_size).to(self.device)\n",
        "        hidden, cell = self.encoder(src)\n",
        "\n",
        "        # сначала <sos> токен\n",
        "        input = trg[0,:]\n",
        "\n",
        "        for t in range(1, max_len):\n",
        "            output, hidden, cell = self.decoder(input, hidden, cell)\n",
        "            outputs[t] = output\n",
        "            teacher_force = random.random() < teacher_forcing_ratio\n",
        "            top1 = output.max(1)[1]\n",
        "            input = (trg[t] if teacher_force else top1)\n",
        "\n",
        "        return outputs"
      ]
    },
    {
      "cell_type": "code",
      "execution_count": null,
      "id": "b121bce6-424e-4619-b328-8738346d8b77",
      "metadata": {
        "id": "b121bce6-424e-4619-b328-8738346d8b77"
      },
      "outputs": [],
      "source": [
        "INPUT_DIM = src_tokenizer.vocab_size\n",
        "OUTPUT_DIM = trg_tokenizer.vocab_size\n",
        "ENC_EMB_DIM = 256\n",
        "DEC_EMB_DIM = 256\n",
        "HID_DIM = 512\n",
        "N_LAYERS = 2\n",
        "ENC_DROPOUT = 0.5\n",
        "DEC_DROPOUT = 0.5\n",
        "\n",
        "enc = Encoder(INPUT_DIM, ENC_EMB_DIM, HID_DIM, N_LAYERS, ENC_DROPOUT)\n",
        "dec = Decoder(OUTPUT_DIM, DEC_EMB_DIM, HID_DIM, N_LAYERS, DEC_DROPOUT)"
      ]
    },
    {
      "cell_type": "code",
      "execution_count": null,
      "id": "de383b67-1918-4e39-8b0d-c72b05ad4717",
      "metadata": {
        "id": "de383b67-1918-4e39-8b0d-c72b05ad4717"
      },
      "outputs": [],
      "source": [
        "# model = Seq2Seq(enc, dec, device).to(device)\n",
        "# model.apply(init_weights)"
      ]
    },
    {
      "cell_type": "code",
      "execution_count": null,
      "id": "2b7eef16-045b-413f-b8c9-44b76501dac6",
      "metadata": {
        "id": "2b7eef16-045b-413f-b8c9-44b76501dac6",
        "outputId": "8d4a3f29-83ba-4d17-a941-2bc006fdbb91"
      },
      "outputs": [
        {
          "data": {
            "text/plain": [
              "Seq2Seq(\n",
              "  (encoder): Encoder(\n",
              "    (dropout): Dropout(p=0.5, inplace=False)\n",
              "    (embedding): Embedding(83828, 256)\n",
              "    (rnn): LSTM(256, 512, num_layers=2, dropout=0.5)\n",
              "  )\n",
              "  (decoder): Decoder(\n",
              "    (embedding): Embedding(30522, 256)\n",
              "    (rnn): LSTM(256, 512, num_layers=2, dropout=0.5)\n",
              "    (out): Linear(in_features=512, out_features=30522, bias=True)\n",
              "    (dropout): Dropout(p=0.5, inplace=False)\n",
              "  )\n",
              ")"
            ]
          },
          "execution_count": 21,
          "metadata": {},
          "output_type": "execute_result"
        }
      ],
      "source": [
        "model = Seq2Seq(enc, dec, device)\n",
        "model.load_state_dict(torch.load(\"rnn\", map_location=torch.device('cpu')))\n",
        "model.to(device)\n",
        "model.eval()"
      ]
    },
    {
      "cell_type": "code",
      "execution_count": null,
      "id": "2d32b660-c5ee-4231-a011-bac7967bb45d",
      "metadata": {
        "id": "2d32b660-c5ee-4231-a011-bac7967bb45d"
      },
      "outputs": [],
      "source": [
        "PAD_IDX = trg_tokenizer.pad_token_id\n",
        "optimizer = optim.Adam(model.parameters())\n",
        "criterion = nn.CrossEntropyLoss(ignore_index = PAD_IDX)"
      ]
    },
    {
      "cell_type": "code",
      "execution_count": null,
      "id": "e2b3b7af-8161-45af-855a-348a6e4d439c",
      "metadata": {
        "id": "e2b3b7af-8161-45af-855a-348a6e4d439c"
      },
      "outputs": [],
      "source": [
        "# train_history = []\n",
        "# valid_history = []\n",
        "\n",
        "# N_EPOCHS = 10\n",
        "# CLIP = 1\n",
        "\n",
        "# best_valid_loss = float('inf')"
      ]
    },
    {
      "cell_type": "code",
      "execution_count": null,
      "id": "a701954b-e771-4b64-9fca-004bc58d086d",
      "metadata": {
        "id": "a701954b-e771-4b64-9fca-004bc58d086d"
      },
      "outputs": [],
      "source": [
        "# for epoch in range(N_EPOCHS):\n",
        "#     train_loss = train(model, train_dataloader, optimizer, criterion, CLIP, train_history, valid_history)\n",
        "#     valid_loss = evaluate(model, valid_dataloader, criterion)\n",
        "\n",
        "#     if valid_loss < best_valid_loss:\n",
        "#         best_valid_loss = valid_loss\n",
        "#         torch.save(model.state_dict(), 'rnn')\n",
        "\n",
        "#     train_history.append(train_loss)\n",
        "#     valid_history.append(valid_loss)\n",
        "#     print(f'\\tTrain Loss: {train_loss:.3f} | Train PPL: {math.exp(train_loss):7.3f}')\n",
        "#     print(f'\\t Val. Loss: {valid_loss:.3f} |  Val. PPL: {math.exp(valid_loss):7.3f}')"
      ]
    },
    {
      "cell_type": "code",
      "execution_count": null,
      "id": "jeoHDpNhJQDU",
      "metadata": {
        "id": "jeoHDpNhJQDU"
      },
      "outputs": [],
      "source": [
        "# from google.colab import files\n",
        "# torch.save(model.state_dict(), \"rnn\")\n",
        "# files.download('rnn')"
      ]
    },
    {
      "cell_type": "code",
      "execution_count": 31,
      "id": "56615956-ff9c-46a8-ae85-d226ddb182ff",
      "metadata": {
        "id": "56615956-ff9c-46a8-ae85-d226ddb182ff"
      },
      "outputs": [],
      "source": [
        "def get_text(x, trg):\n",
        "    x = [el for el in x if el not in trg.all_special_ids]\n",
        "    text = trg.decode(x)\n",
        "    return text"
      ]
    },
    {
      "cell_type": "code",
      "execution_count": null,
      "id": "7e6f683f-1cae-4082-b117-c2e456d14fee",
      "metadata": {
        "colab": {
          "base_uri": "https://localhost:8080/"
        },
        "id": "7e6f683f-1cae-4082-b117-c2e456d14fee",
        "outputId": "b160e808-72db-4d6f-b58b-433c382fe777"
      },
      "outputs": [
        {
          "name": "stderr",
          "output_type": "stream",
          "text": [
            "40it [00:33,  1.20it/s]\n"
          ]
        }
      ],
      "source": [
        "import tqdm\n",
        "\n",
        "original_text = []\n",
        "generated_text = []\n",
        "model.eval()\n",
        "\n",
        "with torch.no_grad():\n",
        "    for i, batch in tqdm.tqdm(enumerate(test_dataloader)):\n",
        "        src = batch[0]\n",
        "        trg = batch[1]\n",
        "\n",
        "        tmp = trg.clone().zero_().to(device)\n",
        "        output = model(src.to(device), tmp, 0)\n",
        "        output = output.argmax(dim=-1)\n",
        "\n",
        "        original_text.extend([get_text(x, trg_tokenizer) for x in trg.cpu().numpy().T])\n",
        "        generated_text.extend([get_text(x, trg_tokenizer) for x in output[1:].detach().cpu().numpy().T])"
      ]
    },
    {
      "cell_type": "code",
      "execution_count": null,
      "id": "d23b2d2a-8589-46f5-8c5d-d9c9e540ee2a",
      "metadata": {
        "id": "d23b2d2a-8589-46f5-8c5d-d9c9e540ee2a",
        "outputId": "f31e56ad-d829-40a1-c41c-049393e2a80c"
      },
      "outputs": [
        {
          "name": "stdout",
          "output_type": "stream",
          "text": [
            "a bathroom with a bath and free toiletries come standard.\n",
            "featuring a shower, private bathroom also comes with a toiletries..\n",
            "a 24 - hour gym, a resting area with wall waterfalls and therapeutic massages are available at the spa.\n",
            "the hotel also has a sauna, a steam bath, a steam bath, a children's playground and a games room.\n",
            "each room at golden park hotel ribeirao preto has a 26 \" lcd tv with cable channels.\n",
            "each room at the at the hotel hotel are a with a tv and a minibar.\n"
          ]
        }
      ],
      "source": [
        "for i in range(3):\n",
        "    print(original_text[i])\n",
        "    print(generated_text[i])"
      ]
    },
    {
      "cell_type": "code",
      "execution_count": null,
      "id": "4899fa9c-6f6f-4d41-b85f-ed193558e136",
      "metadata": {
        "colab": {
          "base_uri": "https://localhost:8080/"
        },
        "id": "4899fa9c-6f6f-4d41-b85f-ed193558e136",
        "outputId": "16ea6b5a-e414-4d3f-e49c-b725dbf9adc1"
      },
      "outputs": [
        {
          "data": {
            "text/plain": [
              "42.35533425297973"
            ]
          },
          "execution_count": 29,
          "metadata": {},
          "output_type": "execute_result"
        }
      ],
      "source": [
        "corpus_bleu([[text] for text in original_text], generated_text) * 100"
      ]
    },
    {
      "cell_type": "markdown",
      "id": "4a641df5-d0d2-4b11-996a-abe4eb9488aa",
      "metadata": {
        "id": "4a641df5-d0d2-4b11-996a-abe4eb9488aa"
      },
      "source": [
        "Даже на 10 эпохах получается значение около 40, что не очень похоже на правду, неужели претрейнд так сильно помог?"
      ]
    },
    {
      "cell_type": "markdown",
      "id": "f23b1a5b-5fe0-4b04-9112-0f2d6c4a9cd3",
      "metadata": {
        "id": "f23b1a5b-5fe0-4b04-9112-0f2d6c4a9cd3"
      },
      "source": [
        "### Глава 4. Испытания (RNN with Attention)"
      ]
    },
    {
      "cell_type": "markdown",
      "id": "4ad0b927-b05b-4a2b-b0c0-2f37e30233e6",
      "metadata": {
        "id": "4ad0b927-b05b-4a2b-b0c0-2f37e30233e6"
      },
      "source": [
        "Обучение с предобученными токенайзерами здесь привело к закончившейся видеопамяти и на колабе, и на ноуте, так что придётся нам использовать tokenizers.Tokenizer"
      ]
    },
    {
      "cell_type": "code",
      "execution_count": 15,
      "id": "e8213dd0-59a7-4ac9-916b-81a8be91d11e",
      "metadata": {
        "id": "e8213dd0-59a7-4ac9-916b-81a8be91d11e"
      },
      "outputs": [],
      "source": [
        "from tokenizers import Tokenizer, pre_tokenizers, normalizers, decoders\n",
        "from tokenizers.models import WordPiece\n",
        "from tokenizers.pre_tokenizers import Whitespace, Digits\n",
        "from tokenizers.trainers import WordPieceTrainer\n",
        "from tokenizers.normalizers import Lowercase, StripAccents\n",
        "\n",
        "unk_token = \"<unk>\"\n",
        "sos_token, eos_token, pad_token = \"<sos>\", \"<eos>\", \"<pad>\"\n",
        "specials = [sos_token, eos_token, pad_token, unk_token]\n",
        "\n",
        "src_tokenizer = Tokenizer(WordPiece(unk_token=unk_token))\n",
        "trg_tokenizer = Tokenizer(WordPiece(unk_token=unk_token))\n",
        "\n",
        "src_tokenizer.pre_tokenizer = pre_tokenizers.Sequence([Whitespace(), Digits(individual_digits=True)])\n",
        "trg_tokenizer.pre_tokenizer = pre_tokenizers.Sequence([Whitespace(), Digits(individual_digits=True)])\n",
        "\n",
        "src_tokenizer.decoder = decoders.WordPiece()\n",
        "trg_tokenizer.decoder = decoders.WordPiece()\n",
        "\n",
        "src_tokenizer.normalizer = normalizers.Sequence([Lowercase(), StripAccents()])\n",
        "trg_tokenizer.normalizer = normalizers.Sequence([Lowercase(), StripAccents()])\n",
        "\n",
        "src_trainer = WordPieceTrainer(special_tokens=specials, vocab_size=12000)\n",
        "trg_trainer = WordPieceTrainer(special_tokens=specials, vocab_size=12000)\n",
        "\n",
        "src_tokenizer.train_from_iterator([sentence[1] for sentence in train_data], trainer=src_trainer)\n",
        "trg_tokenizer.train_from_iterator([sentence[0] for sentence in train_data], trainer=trg_trainer)"
      ]
    },
    {
      "cell_type": "code",
      "execution_count": 16,
      "id": "T6usVRnCibgs",
      "metadata": {
        "id": "T6usVRnCibgs"
      },
      "outputs": [],
      "source": [
        "def src_tokenize(sent):\n",
        "    return src_tokenizer.encode(sent).ids\n",
        "\n",
        "def trg_tokenize(sent):\n",
        "    return trg_tokenizer.encode(sent).ids"
      ]
    },
    {
      "cell_type": "code",
      "execution_count": 17,
      "id": "zOyMqLEbied-",
      "metadata": {
        "id": "zOyMqLEbied-"
      },
      "outputs": [],
      "source": [
        "src_sos_token_id, src_eos_token_id, src_pad_token_id, src_unk_token_id = [src_tokenizer.token_to_id(token) for token in specials]\n",
        "trg_sos_token_id, trg_eos_token_id, trg_pad_token_id, trg_unk_token_id = [trg_tokenizer.token_to_id(token) for token in specials]\n",
        "\n",
        "src_tokenizer.all_special_ids = [src_sos_token_id, src_eos_token_id, src_pad_token_id, src_unk_token_id]\n",
        "trg_tokenizer.all_special_ids = [trg_sos_token_id, trg_eos_token_id, trg_pad_token_id, trg_unk_token_id]"
      ]
    },
    {
      "cell_type": "code",
      "execution_count": 18,
      "id": "3bafd0ec-92be-4765-8dcb-e6d99169f802",
      "metadata": {
        "id": "3bafd0ec-92be-4765-8dcb-e6d99169f802"
      },
      "outputs": [],
      "source": [
        "def encode(sent, vocab_name):\n",
        "    if vocab_name == 'src':\n",
        "      tokenized = [src_sos_token_id] + src_tokenize(sent) + [src_eos_token_id]\n",
        "    elif vocab_name == 'trg':\n",
        "      tokenized = [trg_sos_token_id] + trg_tokenize(sent) + [trg_eos_token_id]\n",
        "    return tokenized"
      ]
    },
    {
      "cell_type": "code",
      "execution_count": 19,
      "id": "b2605003-8000-4872-9baa-8b54135d33af",
      "metadata": {
        "id": "b2605003-8000-4872-9baa-8b54135d33af"
      },
      "outputs": [],
      "source": [
        "from torch.nn.utils.rnn import pad_sequence\n",
        "from torch.utils.data import DataLoader\n",
        "\n",
        "def collate_batch(batch):\n",
        "    src_list, trg_list = [], []\n",
        "    for trg, src in batch:\n",
        "        src_encoded = encode(src, 'src')\n",
        "        src_list.append(torch.tensor(src_encoded))\n",
        "\n",
        "        trg_encoded = encode(trg, 'trg')\n",
        "        trg_list.append(torch.tensor(trg_encoded))\n",
        "\n",
        "    src_padded = pad_sequence(src_list, padding_value=src_pad_token_id)\n",
        "    trg_padded = pad_sequence(trg_list, padding_value=trg_pad_token_id)\n",
        "    return src_padded, trg_padded\n",
        "\n",
        "\n",
        "batch_size = 128\n",
        "train_dataloader = DataLoader(train_data, batch_size, shuffle=True, collate_fn=collate_batch)\n",
        "valid_dataloader = DataLoader(valid_data, batch_size, shuffle=False, collate_fn=collate_batch)\n",
        "test_dataloader = DataLoader(test_data, batch_size, shuffle=False, collate_fn=collate_batch)"
      ]
    },
    {
      "cell_type": "code",
      "execution_count": 20,
      "id": "c8f3e0f4-f55a-42fe-b34b-fd55de5148d5",
      "metadata": {
        "colab": {
          "base_uri": "https://localhost:8080/"
        },
        "id": "c8f3e0f4-f55a-42fe-b34b-fd55de5148d5",
        "outputId": "3377c205-271a-43e7-e39c-24e871e3e462"
      },
      "outputs": [
        {
          "output_type": "stream",
          "name": "stdout",
          "text": [
            "Collecting pytorch-nlp\n",
            "  Downloading pytorch_nlp-0.5.0-py3-none-any.whl (90 kB)\n",
            "\u001b[2K     \u001b[90m━━━━━━━━━━━━━━━━━━━━━━━━━━━━━━━━━━━━━━━━\u001b[0m \u001b[32m90.1/90.1 kB\u001b[0m \u001b[31m1.3 MB/s\u001b[0m eta \u001b[36m0:00:00\u001b[0m\n",
            "\u001b[?25hRequirement already satisfied: numpy in /usr/local/lib/python3.10/dist-packages (from pytorch-nlp) (1.25.2)\n",
            "Requirement already satisfied: tqdm in /usr/local/lib/python3.10/dist-packages (from pytorch-nlp) (4.66.2)\n",
            "Installing collected packages: pytorch-nlp\n",
            "Successfully installed pytorch-nlp-0.5.0\n"
          ]
        }
      ],
      "source": [
        "!pip install pytorch-nlp"
      ]
    },
    {
      "cell_type": "code",
      "execution_count": 21,
      "id": "fb686ea1-d1f0-495d-9d86-d4eedd5ebe26",
      "metadata": {
        "id": "fb686ea1-d1f0-495d-9d86-d4eedd5ebe26"
      },
      "outputs": [],
      "source": [
        "import random\n",
        "import torchnlp.nn as nlpnn\n",
        "\n",
        "import math\n",
        "import torch\n",
        "import torch.nn.functional as F\n",
        "from torch import Tensor\n",
        "from typing import Optional, Tuple\n",
        "\n",
        "class Encoder(nn.Module):\n",
        "    def __init__(self, n_tokens, emb_dim, hid_dim, n_layers, dropout):\n",
        "        super().__init__()\n",
        "\n",
        "        self.n_tokens = n_tokens\n",
        "        self.hid_dim = hid_dim\n",
        "        self.n_layers = n_layers\n",
        "\n",
        "        self.embedding = nn.Embedding(n_tokens, emb_dim)\n",
        "        self.dropout = nn.Dropout(p=dropout)\n",
        "        # а здесь GRU cell (почему нет)\n",
        "        self.rnn = nn.GRU(emb_dim, hid_dim, n_layers, dropout=dropout)\n",
        "\n",
        "    def forward(self, src):\n",
        "        embedded = self.embedding(src)\n",
        "        embedded = self.dropout(embedded)\n",
        "        outputs, hidden = self.rnn(embedded)\n",
        "        return outputs, hidden\n",
        "\n",
        "\n",
        "class AttentionDecoder(nn.Module):\n",
        "    def __init__(self, n_tokens, emb_dim, hid_dim, n_layers, dropout):\n",
        "        super().__init__()\n",
        "\n",
        "        self.n_tokens = n_tokens\n",
        "        self.hid_dim = hid_dim\n",
        "        self.n_layers = n_layers\n",
        "\n",
        "        self.attn = nlpnn.Attention(hid_dim)\n",
        "        self.embedding = nn.Embedding(n_tokens, emb_dim)\n",
        "        self.dropout = nn.Dropout(p=dropout)\n",
        "        self.rnn = nn.GRU(emb_dim + hid_dim, hid_dim, n_layers, dropout=dropout)\n",
        "        self.out = nn.Linear(hid_dim, n_tokens)\n",
        "\n",
        "    def forward(self, input, encoder_outputs, hidden):\n",
        "        input = input.unsqueeze(dim=0)\n",
        "        embedded = self.embedding(input)\n",
        "        embedded = self.dropout(embedded)\n",
        "\n",
        "        context, _ = self.attn(hidden[-1].unsqueeze(1), encoder_outputs.swapaxes(0, 1))\n",
        "        context = context.swapaxes(0, 1)\n",
        "\n",
        "        rnn_input = torch.cat((embedded, context), dim=-1)\n",
        "        output, hidden = self.rnn(rnn_input, hidden)\n",
        "        pred = self.out(output.squeeze(dim=0))\n",
        "        return pred, hidden\n",
        "\n",
        "\n",
        "\n",
        "class Seq2SeqAttention(nn.Module):\n",
        "    def __init__(self, encoder, decoder):\n",
        "        super().__init__()\n",
        "\n",
        "        self.encoder = encoder\n",
        "        self.decoder = decoder\n",
        "\n",
        "        assert encoder.hid_dim == decoder.hid_dim\n",
        "        assert encoder.n_layers == decoder.n_layers\n",
        "\n",
        "    def forward(self, src, trg, teacher_forcing_ratio=0.5):\n",
        "        trg_len, batch_size = trg.shape\n",
        "        preds = []\n",
        "        encoder_outputs, hidden = self.encoder(src)\n",
        "\n",
        "        # First input to the decoder is the <sos> token.\n",
        "        input = trg[0, :]\n",
        "        for i in range(1, trg_len):\n",
        "            pred, hidden = self.decoder(input, encoder_outputs, hidden)\n",
        "            preds.append(pred)\n",
        "            teacher_force = random.random() < teacher_forcing_ratio\n",
        "            _, top_pred = pred.max(dim=1)\n",
        "            input = trg[i, :] if teacher_force else top_pred\n",
        "\n",
        "        return torch.stack(preds)"
      ]
    },
    {
      "cell_type": "code",
      "execution_count": 22,
      "id": "7d144ab2-1220-442a-8945-b3afe2f8cdd5",
      "metadata": {
        "id": "7d144ab2-1220-442a-8945-b3afe2f8cdd5"
      },
      "outputs": [],
      "source": [
        "enc = Encoder(src_tokenizer.get_vocab_size(), emb_dim=512, hid_dim=512, n_layers=3, dropout=0.5)\n",
        "dec = AttentionDecoder(trg_tokenizer.get_vocab_size(), emb_dim=512, hid_dim=512, n_layers=3, dropout=0.5)\n",
        "model = Seq2SeqAttention(enc, dec).to(device)\n",
        "model.apply(init_weights)\n",
        "PAD_IDX = trg_pad_token_id\n",
        "optimizer = optim.Adam(model.parameters())\n",
        "criterion = nn.CrossEntropyLoss(ignore_index = PAD_IDX)"
      ]
    },
    {
      "cell_type": "code",
      "execution_count": 23,
      "id": "fd23e25d-366d-4664-965f-a8d309554790",
      "metadata": {
        "id": "fd23e25d-366d-4664-965f-a8d309554790"
      },
      "outputs": [],
      "source": [
        "loss_history, train_loss_history, valid_loss_history = [], [], []"
      ]
    },
    {
      "cell_type": "markdown",
      "id": "50d099dd-3f8d-409e-a4e6-1ce455e3dd11",
      "metadata": {
        "id": "50d099dd-3f8d-409e-a4e6-1ce455e3dd11"
      },
      "source": [
        "И наконец обучение"
      ]
    },
    {
      "cell_type": "code",
      "execution_count": 25,
      "id": "ed906f7c-1e75-49ef-baa1-0f2efa71ca5d",
      "metadata": {
        "id": "ed906f7c-1e75-49ef-baa1-0f2efa71ca5d",
        "colab": {
          "base_uri": "https://localhost:8080/",
          "height": 463
        },
        "outputId": "f2ab48c6-ae93-420b-f372-a3ecd2303874"
      },
      "outputs": [
        {
          "output_type": "display_data",
          "data": {
            "text/plain": [
              "<Figure size 1500x500 with 2 Axes>"
            ],
            "image/png": "[encoded data removed]"
          },
          "metadata": {}
        }
      ],
      "source": [
        "from IPython.display import clear_output\n",
        "from torch.nn.utils import clip_grad_norm_\n",
        "\n",
        "n_epochs = 10\n",
        "clip = 1\n",
        "for epoch in range(n_epochs):\n",
        "    model.train()\n",
        "    train_loss = 0\n",
        "    for trg, src in train_dataloader:\n",
        "        src, trg = src.to(device), trg.to(device)\n",
        "        output = model(src, trg)\n",
        "\n",
        "        output = output.view(-1, output.shape[-1])\n",
        "        trg = trg[1:].view(-1)\n",
        "\n",
        "        loss = criterion(output, trg)\n",
        "        optimizer.zero_grad()\n",
        "        loss.backward()\n",
        "        clip_grad_norm_(model.parameters(), clip)\n",
        "        optimizer.step()\n",
        "\n",
        "        train_loss += loss.item()\n",
        "        loss_history.append(loss.item())\n",
        "\n",
        "        if len(loss_history) % 10 == 0:\n",
        "            clear_output(wait=True)\n",
        "\n",
        "            plt.figure(figsize=(15, 5))\n",
        "\n",
        "            plt.subplot(121)\n",
        "            plt.plot(loss_history)\n",
        "            plt.xlabel(\"step\")\n",
        "\n",
        "            plt.subplot(122)\n",
        "            plt.plot(train_loss_history, label=\"train loss\")\n",
        "            plt.plot(valid_loss_history, label=\"val loss\")\n",
        "            plt.xlabel(\"epoch\")\n",
        "            plt.legend()\n",
        "\n",
        "            plt.show()\n",
        "\n",
        "    train_loss /= len(train_dataloader)\n",
        "    train_loss_history.append(train_loss)\n",
        "\n",
        "    model.eval()\n",
        "    valid_loss = 0\n",
        "    with torch.no_grad():\n",
        "        for trg, src in valid_dataloader:\n",
        "            src, trg = src.to(device), trg.to(device)\n",
        "            output = model(src, trg)\n",
        "\n",
        "            output = output.view(-1, output.shape[-1])\n",
        "            trg = trg[1:].view(-1)\n",
        "\n",
        "            loss = criterion(output, trg)\n",
        "\n",
        "            valid_loss += loss.item()\n",
        "\n",
        "    valid_loss /= len(valid_dataloader)\n",
        "    valid_loss_history.append(valid_loss)\n",
        "    torch.save(model.state_dict(), \"rnn-with-attention\")"
      ]
    },
    {
      "cell_type": "code",
      "source": [
        "from google.colab import files\n",
        "files.download('rnn-with-attention')"
      ],
      "metadata": {
        "colab": {
          "base_uri": "https://localhost:8080/",
          "height": 17
        },
        "id": "9izK_9V7l3vd",
        "outputId": "08d60ffa-f6c5-44fe-cfc2-024c9bb595db"
      },
      "id": "9izK_9V7l3vd",
      "execution_count": 26,
      "outputs": [
        {
          "output_type": "display_data",
          "data": {
            "text/plain": [
              "<IPython.core.display.Javascript object>"
            ],
            "application/javascript": [
              "\n",
              "    async function download(id, filename, size) {\n",
              "      if (!google.colab.kernel.accessAllowed) {\n",
              "        return;\n",
              "      }\n",
              "      const div = document.createElement('div');\n",
              "      const label = document.createElement('label');\n",
              "      label.textContent = `Downloading \"${filename}\": `;\n",
              "      div.appendChild(label);\n",
              "      const progress = document.createElement('progress');\n",
              "      progress.max = size;\n",
              "      div.appendChild(progress);\n",
              "      document.body.appendChild(div);\n",
              "\n",
              "      const buffers = [];\n",
              "      let downloaded = 0;\n",
              "\n",
              "      const channel = await google.colab.kernel.comms.open(id);\n",
              "      // Send a message to notify the kernel that we're ready.\n",
              "      channel.send({})\n",
              "\n",
              "      for await (const message of channel.messages) {\n",
              "        // Send a message to notify the kernel that we're ready.\n",
              "        channel.send({})\n",
              "        if (message.buffers) {\n",
              "          for (const buffer of message.buffers) {\n",
              "            buffers.push(buffer);\n",
              "            downloaded += buffer.byteLength;\n",
              "            progress.value = downloaded;\n",
              "          }\n",
              "        }\n",
              "      }\n",
              "      const blob = new Blob(buffers, {type: 'application/binary'});\n",
              "      const a = document.createElement('a');\n",
              "      a.href = window.URL.createObjectURL(blob);\n",
              "      a.download = filename;\n",
              "      div.appendChild(a);\n",
              "      a.click();\n",
              "      div.remove();\n",
              "    }\n",
              "  "
            ]
          },
          "metadata": {}
        },
        {
          "output_type": "display_data",
          "data": {
            "text/plain": [
              "<IPython.core.display.Javascript object>"
            ],
            "application/javascript": [
              "download(\"download_aaab5b22-dde1-4e55-b5cb-35b0b444b9c5\", \"rnn-with-attention\", 117895940)"
            ]
          },
          "metadata": {}
        }
      ]
    },
    {
      "cell_type": "code",
      "execution_count": null,
      "id": "6d32277c-2d9c-44cf-b4b5-ae3b63017669",
      "metadata": {
        "id": "6d32277c-2d9c-44cf-b4b5-ae3b63017669"
      },
      "outputs": [],
      "source": [
        "# model = Seq2SeqAttention(enc, dec)\n",
        "# model.load_state_dict(torch.load(\"rnn-attention\", map_location=torch.device('cpu')))\n",
        "# model.to(device)"
      ]
    },
    {
      "cell_type": "code",
      "source": [
        "import tqdm"
      ],
      "metadata": {
        "id": "yATrJRzZN-t3"
      },
      "id": "yATrJRzZN-t3",
      "execution_count": 29,
      "outputs": []
    },
    {
      "cell_type": "code",
      "execution_count": 32,
      "id": "7c1d1762-318d-4424-8519-05123b9923db",
      "metadata": {
        "colab": {
          "base_uri": "https://localhost:8080/"
        },
        "id": "7c1d1762-318d-4424-8519-05123b9923db",
        "outputId": "47dde6f5-d73a-4736-b59d-763f53e4eae3"
      },
      "outputs": [
        {
          "output_type": "stream",
          "name": "stderr",
          "text": [
            "40it [00:05,  6.79it/s]\n"
          ]
        }
      ],
      "source": [
        "original_text = []\n",
        "generated_text = []\n",
        "model.eval()\n",
        "\n",
        "with torch.no_grad():\n",
        "    for i, batch in tqdm.tqdm(enumerate(test_dataloader)):\n",
        "        src = batch[1]\n",
        "        trg = batch[0]\n",
        "\n",
        "        tmp = trg.clone().zero_().to(device)\n",
        "        output = model(src.to(device), tmp, 0)\n",
        "        output = output.argmax(dim=-1)\n",
        "\n",
        "        original_text.extend([get_text(x, trg_tokenizer) for x in trg.cpu().numpy().T])\n",
        "        generated_text.extend([get_text(x, trg_tokenizer) for x in output[1:].detach().cpu().numpy().T])"
      ]
    },
    {
      "cell_type": "code",
      "execution_count": 33,
      "id": "25f20496-8fa8-480f-84ce-961de4895c9d",
      "metadata": {
        "colab": {
          "base_uri": "https://localhost:8080/"
        },
        "id": "25f20496-8fa8-480f-84ce-961de4895c9d",
        "outputId": "eb2f1dfb-95a5-4f13-d55c-f7196a104ec3"
      },
      "outputs": [
        {
          "output_type": "stream",
          "name": "stdout",
          "text": [
            "Your model shows test BLEU of 33.9\n"
          ]
        }
      ],
      "source": [
        "bleu = corpus_bleu([[text] for text in original_text], generated_text)\n",
        "print(f\"Your model shows test BLEU of {100 * bleu:.1f}\")"
      ]
    },
    {
      "cell_type": "markdown",
      "id": "dc697de6-58fd-4142-ab97-ea17c876af7c",
      "metadata": {
        "id": "dc697de6-58fd-4142-ab97-ea17c876af7c"
      },
      "source": [
        "Удивительно, что без предобученных токенайзеров и с достаточно простой архитектурой мы смогли добиться качества в 30+ процентов"
      ]
    },
    {
      "cell_type": "markdown",
      "id": "a3447509-cda5-4dc4-b123-9375bfe37511",
      "metadata": {
        "id": "a3447509-cda5-4dc4-b123-9375bfe37511"
      },
      "source": [
        "### Глава 5. С большой силой приходит большая ответственность"
      ]
    },
    {
      "cell_type": "code",
      "execution_count": null,
      "id": "2e2dd9e5-a1a4-49d3-a321-75a8a109a6d6",
      "metadata": {
        "id": "2e2dd9e5-a1a4-49d3-a321-75a8a109a6d6"
      },
      "outputs": [],
      "source": [
        "class PositionalEncoding(nn.Module):\n",
        "    def __init__(self, emb_size, dropout, maxlen=5000):\n",
        "        super().__init__()\n",
        "\n",
        "        pos = torch.arange(0, maxlen).reshape(maxlen, 1)\n",
        "        density = torch.exp(- torch.arange(0, emb_size, 2) * math.log(10000) / emb_size)\n",
        "\n",
        "        pos_embedding = torch.zeros((maxlen, emb_size))\n",
        "        pos_embedding[:, 0::2] = torch.sin(pos * density)\n",
        "        pos_embedding[:, 1::2] = torch.cos(pos * density)\n",
        "        pos_embedding = pos_embedding.unsqueeze(-2)\n",
        "\n",
        "        self.dropout = nn.Dropout(p=dropout)\n",
        "        self.register_buffer('pos_embedding', pos_embedding)\n",
        "\n",
        "    def forward(self, token_embedding):\n",
        "        return self.dropout(token_embedding + self.pos_embedding[:token_embedding.size(0), :])\n",
        "\n",
        "\n",
        "class TokenEmbedding(nn.Module):\n",
        "    def __init__(self, vocab_size, emb_size):\n",
        "        super().__init__()\n",
        "        self.embedding = nn.Embedding(vocab_size, emb_size)\n",
        "        self.emb_size = emb_size\n",
        "\n",
        "    def forward(self, tokens):\n",
        "        return self.embedding(tokens.long()) * math.sqrt(self.emb_size)\n",
        "\n",
        "\n",
        "class Seq2SeqTransformer(nn.Module):\n",
        "    def __init__(self, num_encoder_layers, num_decoder_layers, emb_size, nhead, src_vocab_size, trg_vocab_size, dim_feedforward = 512, dropout=0.1):\n",
        "        super().__init__()\n",
        "\n",
        "        self.transformer = nn.Transformer(d_model=emb_size,\n",
        "                                          nhead=nhead,\n",
        "                                          num_encoder_layers=num_encoder_layers,\n",
        "                                          num_decoder_layers=num_decoder_layers,\n",
        "                                          dim_feedforward=dim_feedforward,\n",
        "                                          dropout=dropout)\n",
        "        self.src_token_emb = TokenEmbedding(src_vocab_size, emb_size)\n",
        "        self.trg_token_emb = TokenEmbedding(trg_vocab_size, emb_size)\n",
        "        self.generator = nn.Linear(emb_size, trg_vocab_size)\n",
        "        self.positional_encoding = PositionalEncoding(emb_size, dropout=dropout)\n",
        "\n",
        "    def forward(self, src, trg, src_mask=None, trg_mask=None, src_padding_mask=None, trg_padding_mask=None, memory_key_padding_mask=None):\n",
        "        src_emb = self.positional_encoding(self.src_token_emb(src))\n",
        "        trg_emb = self.positional_encoding(self.trg_token_emb(trg))\n",
        "        outs = self.transformer(src_emb, trg_emb, src_mask, trg_mask, None, src_padding_mask, trg_padding_mask, memory_key_padding_mask)\n",
        "        return self.generator(outs)\n",
        "\n",
        "    def encode(self, src, src_mask=None):\n",
        "        return self.transformer.encoder(self.positional_encoding(self.src_token_emb(src)), src_mask)\n",
        "\n",
        "    def decode(self, trg, memory, trg_mask=None):\n",
        "        return self.transformer.decoder(self.positional_encoding(self.trg_token_emb(trg)), memory, trg_mask)"
      ]
    },
    {
      "cell_type": "code",
      "execution_count": null,
      "id": "ExvzkYiPm-rZ",
      "metadata": {
        "id": "ExvzkYiPm-rZ"
      },
      "outputs": [],
      "source": [
        "def generate_sub_mask(sz, device):\n",
        "    mask = (torch.triu(torch.ones((sz, sz), device=device)) == 1).transpose(0, 1)\n",
        "    mask = mask.float().masked_fill(mask == 0, float('-inf')).masked_fill(mask == 1, float(0.0))\n",
        "    return mask\n",
        "\n",
        "\n",
        "def create_masks(src, trg, device):\n",
        "  src_seq_len = src.shape[0]\n",
        "  trg_seq_len = trg.shape[0]\n",
        "  trg_mask = generate_sub_mask(trg_seq_len, device)\n",
        "  src_mask = torch.zeros((src_seq_len, src_seq_len), device=device).type(torch.bool)\n",
        "  src_padding_mask = (src == src_pad_token_id).transpose(0, 1)\n",
        "  trg_padding_mask = (trg == trg_pad_token_id).transpose(0, 1)\n",
        "  return src_mask, trg_mask, src_padding_mask, trg_padding_mask"
      ]
    },
    {
      "cell_type": "code",
      "execution_count": null,
      "id": "422da4d2-e63f-472b-8739-f524beadcb6b",
      "metadata": {
        "id": "422da4d2-e63f-472b-8739-f524beadcb6b"
      },
      "outputs": [],
      "source": [
        "def merge_tokens_and_hashes(tokens):\n",
        "  if tokens == []:\n",
        "    return []\n",
        "\n",
        "  merged = [tokens[0]]\n",
        "\n",
        "  for i in range(1, len(tokens)):\n",
        "    if tokens[i][:2] == \"##\":\n",
        "      merged[-1] += tokens[i][2:]\n",
        "    # elif tokens[i].isdigit() and merged_tokens[-1].isdigit():\n",
        "    #   merged_tokens[-1] += tokens[i]\n",
        "    else:\n",
        "      merged.append(tokens[i])\n",
        "\n",
        "  return merged"
      ]
    },
    {
      "cell_type": "code",
      "execution_count": null,
      "id": "3ac9f3a5-51b4-4bd7-98a5-f14ab03c4502",
      "metadata": {
        "colab": {
          "base_uri": "https://localhost:8080/"
        },
        "id": "3ac9f3a5-51b4-4bd7-98a5-f14ab03c4502",
        "outputId": "461dd08b-5c9e-43b9-a4dd-0de55b40eb1a"
      },
      "outputs": [
        {
          "output_type": "stream",
          "name": "stderr",
          "text": [
            "/usr/local/lib/python3.10/dist-packages/torch/nn/modules/transformer.py:282: UserWarning: enable_nested_tensor is True, but self.use_nested_tensor is False because encoder_layer.self_attn.batch_first was not True(use batch_first for better inference performance)\n",
            "  warnings.warn(f\"enable_nested_tensor is True, but self.use_nested_tensor is False because {why_not_sparsity_fast_path}\")\n"
          ]
        },
        {
          "output_type": "execute_result",
          "data": {
            "text/plain": [
              "Seq2SeqTransformer(\n",
              "  (transformer): Transformer(\n",
              "    (encoder): TransformerEncoder(\n",
              "      (layers): ModuleList(\n",
              "        (0-2): 3 x TransformerEncoderLayer(\n",
              "          (self_attn): MultiheadAttention(\n",
              "            (out_proj): NonDynamicallyQuantizableLinear(in_features=512, out_features=512, bias=True)\n",
              "          )\n",
              "          (linear1): Linear(in_features=512, out_features=512, bias=True)\n",
              "          (dropout): Dropout(p=0.1, inplace=False)\n",
              "          (linear2): Linear(in_features=512, out_features=512, bias=True)\n",
              "          (norm1): LayerNorm((512,), eps=1e-05, elementwise_affine=True)\n",
              "          (norm2): LayerNorm((512,), eps=1e-05, elementwise_affine=True)\n",
              "          (dropout1): Dropout(p=0.1, inplace=False)\n",
              "          (dropout2): Dropout(p=0.1, inplace=False)\n",
              "        )\n",
              "      )\n",
              "      (norm): LayerNorm((512,), eps=1e-05, elementwise_affine=True)\n",
              "    )\n",
              "    (decoder): TransformerDecoder(\n",
              "      (layers): ModuleList(\n",
              "        (0-2): 3 x TransformerDecoderLayer(\n",
              "          (self_attn): MultiheadAttention(\n",
              "            (out_proj): NonDynamicallyQuantizableLinear(in_features=512, out_features=512, bias=True)\n",
              "          )\n",
              "          (multihead_attn): MultiheadAttention(\n",
              "            (out_proj): NonDynamicallyQuantizableLinear(in_features=512, out_features=512, bias=True)\n",
              "          )\n",
              "          (linear1): Linear(in_features=512, out_features=512, bias=True)\n",
              "          (dropout): Dropout(p=0.1, inplace=False)\n",
              "          (linear2): Linear(in_features=512, out_features=512, bias=True)\n",
              "          (norm1): LayerNorm((512,), eps=1e-05, elementwise_affine=True)\n",
              "          (norm2): LayerNorm((512,), eps=1e-05, elementwise_affine=True)\n",
              "          (norm3): LayerNorm((512,), eps=1e-05, elementwise_affine=True)\n",
              "          (dropout1): Dropout(p=0.1, inplace=False)\n",
              "          (dropout2): Dropout(p=0.1, inplace=False)\n",
              "          (dropout3): Dropout(p=0.1, inplace=False)\n",
              "        )\n",
              "      )\n",
              "      (norm): LayerNorm((512,), eps=1e-05, elementwise_affine=True)\n",
              "    )\n",
              "  )\n",
              "  (src_token_emb): TokenEmbedding(\n",
              "    (embedding): Embedding(12000, 512)\n",
              "  )\n",
              "  (trg_token_emb): TokenEmbedding(\n",
              "    (embedding): Embedding(12000, 512)\n",
              "  )\n",
              "  (generator): Linear(in_features=512, out_features=12000, bias=True)\n",
              "  (positional_encoding): PositionalEncoding(\n",
              "    (dropout): Dropout(p=0.1, inplace=False)\n",
              "  )\n",
              ")"
            ]
          },
          "metadata": {},
          "execution_count": 33
        }
      ],
      "source": [
        "model = Seq2SeqTransformer(3, 3, 512, 8, src_tokenizer.get_vocab_size(), trg_tokenizer.get_vocab_size(), 512).to(device)\n",
        "model.apply(init_weights)"
      ]
    },
    {
      "cell_type": "code",
      "execution_count": null,
      "id": "9007b204-622f-454a-b9ab-5c8713edb4e3",
      "metadata": {
        "id": "9007b204-622f-454a-b9ab-5c8713edb4e3",
        "outputId": "945686fd-c007-4d15-d101-7f335a3d699f"
      },
      "outputs": [
        {
          "data": {
            "text/plain": [
              "Seq2SeqTransformer(\n",
              "  (transformer): Transformer(\n",
              "    (encoder): TransformerEncoder(\n",
              "      (layers): ModuleList(\n",
              "        (0-2): 3 x TransformerEncoderLayer(\n",
              "          (self_attn): MultiheadAttention(\n",
              "            (out_proj): NonDynamicallyQuantizableLinear(in_features=512, out_features=512, bias=True)\n",
              "          )\n",
              "          (linear1): Linear(in_features=512, out_features=512, bias=True)\n",
              "          (dropout): Dropout(p=0.1, inplace=False)\n",
              "          (linear2): Linear(in_features=512, out_features=512, bias=True)\n",
              "          (norm1): LayerNorm((512,), eps=1e-05, elementwise_affine=True)\n",
              "          (norm2): LayerNorm((512,), eps=1e-05, elementwise_affine=True)\n",
              "          (dropout1): Dropout(p=0.1, inplace=False)\n",
              "          (dropout2): Dropout(p=0.1, inplace=False)\n",
              "        )\n",
              "      )\n",
              "      (norm): LayerNorm((512,), eps=1e-05, elementwise_affine=True)\n",
              "    )\n",
              "    (decoder): TransformerDecoder(\n",
              "      (layers): ModuleList(\n",
              "        (0-2): 3 x TransformerDecoderLayer(\n",
              "          (self_attn): MultiheadAttention(\n",
              "            (out_proj): NonDynamicallyQuantizableLinear(in_features=512, out_features=512, bias=True)\n",
              "          )\n",
              "          (multihead_attn): MultiheadAttention(\n",
              "            (out_proj): NonDynamicallyQuantizableLinear(in_features=512, out_features=512, bias=True)\n",
              "          )\n",
              "          (linear1): Linear(in_features=512, out_features=512, bias=True)\n",
              "          (dropout): Dropout(p=0.1, inplace=False)\n",
              "          (linear2): Linear(in_features=512, out_features=512, bias=True)\n",
              "          (norm1): LayerNorm((512,), eps=1e-05, elementwise_affine=True)\n",
              "          (norm2): LayerNorm((512,), eps=1e-05, elementwise_affine=True)\n",
              "          (norm3): LayerNorm((512,), eps=1e-05, elementwise_affine=True)\n",
              "          (dropout1): Dropout(p=0.1, inplace=False)\n",
              "          (dropout2): Dropout(p=0.1, inplace=False)\n",
              "          (dropout3): Dropout(p=0.1, inplace=False)\n",
              "        )\n",
              "      )\n",
              "      (norm): LayerNorm((512,), eps=1e-05, elementwise_affine=True)\n",
              "    )\n",
              "  )\n",
              "  (src_token_emb): TokenEmbedding(\n",
              "    (embedding): Embedding(12000, 512)\n",
              "  )\n",
              "  (trg_token_emb): TokenEmbedding(\n",
              "    (embedding): Embedding(12000, 512)\n",
              "  )\n",
              "  (generator): Linear(in_features=512, out_features=12000, bias=True)\n",
              "  (positional_encoding): PositionalEncoding(\n",
              "    (dropout): Dropout(p=0.1, inplace=False)\n",
              "  )\n",
              ")"
            ]
          },
          "execution_count": 48,
          "metadata": {},
          "output_type": "execute_result"
        }
      ],
      "source": [
        "# model = Seq2SeqTransformer(3, 3, 512, 8, src_tokenizer.get_vocab_size(), trg_tokenizer.get_vocab_size(), 512)\n",
        "# model.load_state_dict(torch.load(\"transformers\", map_location=torch.device('cpu')))\n",
        "# model.to(device)"
      ]
    },
    {
      "cell_type": "code",
      "execution_count": null,
      "id": "aae162a4-4451-4a4c-b2be-161da91be897",
      "metadata": {
        "id": "aae162a4-4451-4a4c-b2be-161da91be897"
      },
      "outputs": [],
      "source": [
        "optimizer = torch.optim.Adam(model.parameters(), lr=0.0001, betas=(0.9, 0.98), eps=1e-9)\n",
        "criterion = nn.CrossEntropyLoss(ignore_index=trg_pad_token_id)"
      ]
    },
    {
      "cell_type": "code",
      "execution_count": null,
      "id": "34d6fa7e-1c34-4039-994b-15c6945d86d1",
      "metadata": {
        "id": "34d6fa7e-1c34-4039-994b-15c6945d86d1",
        "colab": {
          "base_uri": "https://localhost:8080/",
          "height": 285
        },
        "outputId": "99d90649-1666-4c11-f559-d934c53dd557"
      },
      "outputs": [
        {
          "output_type": "display_data",
          "data": {
            "text/plain": [
              "<Figure size 1500x500 with 2 Axes>"
            ],
            "image/png": "[encoded data removed]"
          },
          "metadata": {}
        }
      ],
      "source": [
        "import matplotlib.pyplot as plt\n",
        "from IPython.display import clear_output\n",
        "from torch.nn.utils import clip_grad_norm_\n",
        "\n",
        "loss_history, train_loss_history, valid_loss_history = [], [], []\n",
        "n_epochs = 36\n",
        "clip = 1\n",
        "for epoch in range(n_epochs):\n",
        "    model.train()\n",
        "    train_loss = 0\n",
        "    for trg, src in train_dataloader:\n",
        "        src, trg = src.to(device), trg.to(device)\n",
        "        trg_input = trg[:-1, :]\n",
        "\n",
        "        src_mask, trg_mask, src_padding_mask, trg_padding_mask = create_masks(src, trg_input, device)\n",
        "\n",
        "        output = model(src, trg_input, src_mask=src_mask, trg_mask=trg_mask, src_padding_mask=src_padding_mask, trg_padding_mask=trg_padding_mask, memory_key_padding_mask=src_padding_mask)\n",
        "\n",
        "        output = output.view(-1, output.shape[-1])\n",
        "        trg_out = trg[1:, :].view(-1)\n",
        "\n",
        "        # print(output)\n",
        "\n",
        "        loss = criterion(output, trg_out)\n",
        "        optimizer.zero_grad()\n",
        "        loss.backward()\n",
        "        clip_grad_norm_(model.parameters(), clip)\n",
        "        optimizer.step()\n",
        "\n",
        "        train_loss += loss.item()\n",
        "        loss_history.append(loss.item())\n",
        "\n",
        "        if len(loss_history) % 10 == 0:\n",
        "\n",
        "            clear_output(wait=True)\n",
        "\n",
        "            plt.figure(figsize=(15, 5))\n",
        "\n",
        "            plt.subplot(121)\n",
        "            plt.plot(loss_history)\n",
        "            plt.xlabel(\"step\")\n",
        "\n",
        "            plt.subplot(122)\n",
        "            plt.plot(train_loss_history, label=\"train loss\")\n",
        "            plt.plot(valid_loss_history, label=\"val loss\")\n",
        "            plt.xlabel(\"epoch\")\n",
        "            plt.legend()\n",
        "\n",
        "            plt.show()\n",
        "\n",
        "    train_loss /= len(train_dataloader)\n",
        "    train_loss_history.append(train_loss)\n",
        "\n",
        "    model.eval()\n",
        "    valid_loss = 0\n",
        "    with torch.no_grad():\n",
        "        for trg, src in valid_dataloader:\n",
        "            src, trg = src.to(device), trg.to(device)\n",
        "            trg_input = trg[:-1, :]\n",
        "\n",
        "            src_mask, trg_mask, src_padding_mask, trg_padding_mask = create_masks(src, trg_input, device)\n",
        "\n",
        "            output = model(src, trg_input, src_mask=src_mask, trg_mask=trg_mask, src_padding_mask=src_padding_mask, trg_padding_mask=trg_padding_mask, memory_key_padding_mask=src_padding_mask)\n",
        "\n",
        "            output = output.view(-1, output.shape[-1])\n",
        "            trg_out = trg[1:, :].view(-1)\n",
        "\n",
        "            loss = criterion(output, trg_out)\n",
        "\n",
        "            valid_loss += loss.item()\n",
        "\n",
        "    valid_loss /= len(valid_dataloader)\n",
        "    valid_loss_history.append(valid_loss)"
      ]
    },
    {
      "cell_type": "code",
      "execution_count": null,
      "id": "fd3b56bf-f805-4fa1-8387-df8f34880731",
      "metadata": {
        "colab": {
          "base_uri": "https://localhost:8080/",
          "height": 216
        },
        "id": "fd3b56bf-f805-4fa1-8387-df8f34880731",
        "outputId": "bcf6ad50-94e7-4cbb-97f2-ba3302950ce2"
      },
      "outputs": [
        {
          "output_type": "error",
          "ename": "NameError",
          "evalue": "name 'model' is not defined",
          "traceback": [
            "\u001b[0;31m---------------------------------------------------------------------------\u001b[0m",
            "\u001b[0;31mNameError\u001b[0m                                 Traceback (most recent call last)",
            "\u001b[0;32m<ipython-input-1-86fdc0d64f04>\u001b[0m in \u001b[0;36m<cell line: 2>\u001b[0;34m()\u001b[0m\n\u001b[1;32m      1\u001b[0m \u001b[0moriginal_text\u001b[0m\u001b[0;34m,\u001b[0m \u001b[0mgenerated_text\u001b[0m \u001b[0;34m=\u001b[0m \u001b[0;34m[\u001b[0m\u001b[0;34m]\u001b[0m\u001b[0;34m,\u001b[0m \u001b[0;34m[\u001b[0m\u001b[0;34m]\u001b[0m\u001b[0;34m\u001b[0m\u001b[0;34m\u001b[0m\u001b[0m\n\u001b[0;32m----> 2\u001b[0;31m \u001b[0mmodel\u001b[0m\u001b[0;34m.\u001b[0m\u001b[0meval\u001b[0m\u001b[0;34m(\u001b[0m\u001b[0;34m)\u001b[0m\u001b[0;34m\u001b[0m\u001b[0;34m\u001b[0m\u001b[0m\n\u001b[0m\u001b[1;32m      3\u001b[0m \u001b[0;34m\u001b[0m\u001b[0m\n\u001b[1;32m      4\u001b[0m \u001b[0;32mwith\u001b[0m \u001b[0mtorch\u001b[0m\u001b[0;34m.\u001b[0m\u001b[0mno_grad\u001b[0m\u001b[0;34m(\u001b[0m\u001b[0;34m)\u001b[0m\u001b[0;34m:\u001b[0m\u001b[0;34m\u001b[0m\u001b[0;34m\u001b[0m\u001b[0m\n\u001b[1;32m      5\u001b[0m     \u001b[0;32mfor\u001b[0m \u001b[0m_\u001b[0m\u001b[0;34m,\u001b[0m \u001b[0mbatch\u001b[0m \u001b[0;32min\u001b[0m \u001b[0mtqdm\u001b[0m\u001b[0;34m.\u001b[0m\u001b[0mtqdm\u001b[0m\u001b[0;34m(\u001b[0m\u001b[0menumerate\u001b[0m\u001b[0;34m(\u001b[0m\u001b[0mtest_dataloader\u001b[0m\u001b[0;34m)\u001b[0m\u001b[0;34m)\u001b[0m\u001b[0;34m:\u001b[0m\u001b[0;34m\u001b[0m\u001b[0;34m\u001b[0m\u001b[0m\n",
            "\u001b[0;31mNameError\u001b[0m: name 'model' is not defined"
          ]
        }
      ],
      "source": [
        "original_text, generated_text = [], []\n",
        "model.eval()\n",
        "\n",
        "with torch.no_grad():\n",
        "    for _, batch in tqdm.tqdm(enumerate(test_dataloader)):\n",
        "        src = batch[1]\n",
        "        trg = batch[0]\n",
        "        trg_input = trg[:-1, :]\n",
        "        src_mask, trg_mask, src_padding_mask, trg_padding_mask = create_masks(src, trg_input, device)\n",
        "        output = model(src,\n",
        "                       trg_input,\n",
        "                       src_mask=src_mask,\n",
        "                       trg_mask=trg_mask,\n",
        "                       src_padding_mask=src_padding_mask,\n",
        "                       trg_padding_mask=trg_padding_mask,\n",
        "                       memory_key_padding_mask=src_padding_mask)\n",
        "        output = output.cpu().numpy().argmax(axis=2)\n",
        "\n",
        "        for i in range(trg.shape[1]):\n",
        "            original = trg[:, i]\n",
        "            original_tokens = [trg_tokenizer.id_to_token(el) for el in original]\n",
        "            original_tokens = [token for token in original_tokens if token not in specials]\n",
        "            original_tokens = merge_tokens_and_hashes(original_tokens)\n",
        "            original_text.append(original_tokens)\n",
        "\n",
        "            generated = output[:, i]\n",
        "            generated = [id_ for id_ in generated] # want to use index method\n",
        "            if trg_eos_token_id in generated:\n",
        "              generated = generated[:generated.index(trg_eos_token_id)]\n",
        "            generated_tokens = [trg_tokenizer.id_to_token(el) for el in generated]\n",
        "            generated_tokens = [token for token in generated_tokens if token not in specials]\n",
        "            generated_tokens = merge_tokens_and_hashes(generated_tokens)\n",
        "            generated_text.append(generated_tokens)"
      ]
    },
    {
      "cell_type": "code",
      "execution_count": null,
      "id": "f691dae1-3d0e-452f-a291-e9eccb1fbac6",
      "metadata": {
        "scrolled": true,
        "id": "f691dae1-3d0e-452f-a291-e9eccb1fbac6",
        "outputId": "9c22d1ba-cb59-4e48-b951-ee05bf314e39"
      },
      "outputs": [
        {
          "name": "stdout",
          "output_type": "stream",
          "text": [
            "Your model shows test BLEU of 25.1\n"
          ]
        }
      ],
      "source": [
        "bleu = corpus_bleu([[text] for text in original_text], generated_text)\n",
        "print(f\"Your model shows test BLEU of {100 * bleu:.1f}\")"
      ]
    },
    {
      "cell_type": "code",
      "execution_count": null,
      "id": "7259cc97-f7c7-423a-b0f4-f891858479d4",
      "metadata": {
        "id": "7259cc97-f7c7-423a-b0f4-f891858479d4"
      },
      "outputs": [],
      "source": [
        "# from google.colab import files\n",
        "# torch.save(model.state_dict(), \"transformers\")\n",
        "# files.download('transformers')"
      ]
    },
    {
      "cell_type": "markdown",
      "id": "4ae8b109-8d64-4463-b6f7-531a7d90341c",
      "metadata": {
        "id": "4ae8b109-8d64-4463-b6f7-531a7d90341c"
      },
      "source": [
        "Странно, что трансформер не смог показать похожего результата в 30-40 bleu. Как мы видим по переводу, качество тоже не идеальное, возможно, надо было поставить другое число эпох (хотя точность на валидации к ~30 шагу вышла на плато)"
      ]
    },
    {
      "cell_type": "code",
      "execution_count": null,
      "id": "00b85d70-1e56-4b13-81a2-a50d8c7ed487",
      "metadata": {
        "id": "00b85d70-1e56-4b13-81a2-a50d8c7ed487"
      },
      "outputs": [],
      "source": []
    }
  ],
  "metadata": {
    "accelerator": "GPU",
    "colab": {
      "gpuType": "T4",
      "provenance": [],
      "collapsed_sections": [
        "c483bdf0-a685-467a-82b5-e827566ba6c2"
      ]
    },
    "kernelspec": {
      "display_name": "Python 3 (ipykernel)",
      "language": "python",
      "name": "python3"
    },
    "language_info": {
      "codemirror_mode": {
        "name": "ipython",
        "version": 3
      },
      "file_extension": ".py",
      "mimetype": "text/x-python",
      "name": "python",
      "nbconvert_exporter": "python",
      "pygments_lexer": "ipython3",
      "version": "3.11.8"
    }
  },
  "nbformat": 4,
  "nbformat_minor": 5
}